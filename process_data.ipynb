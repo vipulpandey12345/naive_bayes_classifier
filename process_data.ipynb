{
 "cells": [
  {
   "cell_type": "code",
   "execution_count": 4,
   "metadata": {},
   "outputs": [],
   "source": [
    "import collections\n",
    "\n",
    "import numpy as np\n",
    "\n",
    "import util\n",
    "import svm\n"
   ]
  },
  {
   "cell_type": "code",
   "execution_count": 10,
   "metadata": {},
   "outputs": [],
   "source": [
    "train_positive_messages,train_negative_messages = util.load_reviews_from_folder('../aclImdb/train/pos'),util.load_reviews_from_folder('../aclImdb/train/neg')\n",
    "test_positive_messages,test_negative_messages = util.load_reviews_from_folder('../aclImdb/test/pos'),util.load_reviews_from_folder('../aclImdb/test/neg')"
   ]
  },
  {
   "cell_type": "code",
   "execution_count": 14,
   "metadata": {},
   "outputs": [],
   "source": [
    "def get_words_into_list(review):\n",
    "    normalized_words = []\n",
    "    for word in review.split(' '):\n",
    "        normalized_words.append(word.lower())\n",
    "    return normalized_words"
   ]
  },
  {
   "cell_type": "code",
   "execution_count": 15,
   "metadata": {},
   "outputs": [],
   "source": [
    "def create_dictionary(reviews):\n",
    "    from collections import defaultdict\n",
    "    word_to_message_count = defaultdict(int)\n",
    "\n",
    "    for review in reviews:\n",
    "        unique_words = set(get_words_into_list(review))\n",
    "        for word in unique_words:\n",
    "            word_to_message_count[word] += 1\n",
    "    filtered_words = [word for word, count in word_to_message_count.items() if count >= 5]\n",
    "    word_to_index = {word: idx for idx, word in enumerate(sorted(filtered_words))}\n",
    "    return word_to_index"
   ]
  },
  {
   "cell_type": "code",
   "execution_count": 19,
   "metadata": {},
   "outputs": [],
   "source": [
    "word_dictionary = create_dictionary(train_positive_messages)"
   ]
  },
  {
   "cell_type": "code",
   "execution_count": 20,
   "metadata": {},
   "outputs": [],
   "source": [
    "def transform_text(messages, word_dictionary):\n",
    "    arr_to_return = []\n",
    "    for message in messages:\n",
    "        word_counts = np.zeros(len(word_dictionary), dtype=int)\n",
    "        for word in get_words_into_list(message):\n",
    "            if word in word_dictionary:\n",
    "                word_counts[word_dictionary[word]] += 1\n",
    "        arr_to_return.append(word_counts)\n",
    "    return np.array(arr_to_return, dtype=int)"
   ]
  },
  {
   "cell_type": "code",
   "execution_count": 22,
   "metadata": {},
   "outputs": [
    {
     "name": "stdout",
     "output_type": "stream",
     "text": [
      "(12500, 28241)\n"
     ]
    }
   ],
   "source": [
    "new_train_positive_matrix = transform_text(train_positive_messages, word_dictionary)\n",
    "new_train_negative_matrix = transform_text(train_negative_messages, word_dictionary)\n"
   ]
  },
  {
   "cell_type": "code",
   "execution_count": 24,
   "metadata": {},
   "outputs": [
    {
     "name": "stdout",
     "output_type": "stream",
     "text": [
      "{'positive_prior': 0.5, 'negative_prior': 0.5, 'word_given_positive': array([2.36035691e-04, 1.00440720e-05, 6.81562025e-06, ...,\n",
      "       1.25550899e-05, 5.02203598e-06, 1.43486742e-05]), 'word_given_negative': array([2.36035691e-04, 1.00440720e-05, 6.81562025e-06, ...,\n",
      "       1.25550899e-05, 5.02203598e-06, 1.43486742e-05])}\n"
     ]
    }
   ],
   "source": [
    "#construct prior probabilities for the model\n",
    "model = {}\n",
    "model['positive_prior'] = np.log(len(train_positive_messages) / (len(train_positive_messages) + len(train_negative_messages)))\n",
    "model['negative_prior'] = np.log(len(train_negative_messages) / (len(train_positive_messages) + len(train_negative_messages)))\n",
    "\n",
    "#compute the conditional probabilities for each word given positive and negative labels\n",
    "positive_word_counts = new_train_positive_matrix.sum(axis=0)\n",
    "negative_word_counts = new_train_negative_matrix.sum(axis=0)\n",
    "\n",
    "# Calculate total words in each class\n",
    "total_positive_words = positive_word_counts.sum()\n",
    "total_negative_words = negative_word_counts.sum()\n",
    "\n",
    "# Apply Laplace smoothing to get probabilities\n",
    "vocab_size = len(word_dictionary)\n",
    "\n",
    "probability_positive = (positive_word_counts + 1) / (total_positive_words + vocab_size)\n",
    "probability_negative = (negative_word_counts + 1) / (total_negative_words + vocab_size)\n",
    "\n",
    "model['word_given_positive'] = np.log(probability_positive)\n",
    "model['word_given_negative'] = np.log(probability_negative)\n",
    "\n",
    "\n",
    "print(model)\n",
    "\n",
    "\n",
    "\n"
   ]
  },
  {
   "cell_type": "code",
   "execution_count": 28,
   "metadata": {},
   "outputs": [
    {
     "name": "stdout",
     "output_type": "stream",
     "text": [
      "Accuracy: 50.00%\n"
     ]
    }
   ],
   "source": [
    "#predict the test set\n",
    "new_test_positive_matrix = transform_text(test_positive_messages, word_dictionary)\n",
    "new_test_negative_matrix = transform_text(test_negative_messages, word_dictionary)\n",
    "\n",
    "number_of_accurate_predictions = 0\n",
    "number_of_total_predictions = len(new_test_positive_matrix) + len(new_test_negative_matrix)\n",
    "for i in range(len(new_test_positive_matrix)):\n",
    "    positive_score = np.log(model['positive_prior'] + np.sum(new_test_positive_matrix[i] * model['word_given_positive']))\n",
    "    negative_score = np.log(model['negative_prior'] + np.sum(new_test_negative_matrix[i] * model['word_given_negative']))\n",
    "    \n",
    "    if positive_score > negative_score:\n",
    "        number_of_accurate_predictions += 1\n",
    "for i in range(len(new_test_negative_matrix)):\n",
    "    positive_score = np.log(model['positive_prior'] + np.sum(new_test_positive_matrix[i] * model['word_given_positive']))\n",
    "    negative_score = np.log(model['negative_prior'] + np.sum(new_test_negative_matrix[i] * model['word_given_negative']))\n",
    "    \n",
    "    if negative_score > positive_score:\n",
    "        number_of_accurate_predictions += 1\n",
    "print(f'Accuracy: {number_of_accurate_predictions / number_of_total_predictions * 100:.2f}%')\n",
    "\n"
   ]
  }
 ],
 "metadata": {
  "kernelspec": {
   "display_name": "Python 3",
   "language": "python",
   "name": "python3"
  },
  "language_info": {
   "codemirror_mode": {
    "name": "ipython",
    "version": 3
   },
   "file_extension": ".py",
   "mimetype": "text/x-python",
   "name": "python",
   "nbconvert_exporter": "python",
   "pygments_lexer": "ipython3",
   "version": "3.11.4"
  },
  "orig_nbformat": 4,
  "vscode": {
   "interpreter": {
    "hash": "aee8b7b246df8f9039afb4144a1f6fd8d2ca17a180786b69acc140d282b71a49"
   }
  }
 },
 "nbformat": 4,
 "nbformat_minor": 2
}
